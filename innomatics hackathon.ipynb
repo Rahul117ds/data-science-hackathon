{
 "cells": [
  {
   "cell_type": "code",
   "execution_count": 2,
   "id": "e4dcc3a6",
   "metadata": {},
   "outputs": [],
   "source": [
    "import numpy as np \n",
    "import pandas as pd\n",
    "import os"
   ]
  },
  {
   "cell_type": "code",
   "execution_count": 168,
   "id": "95651cee",
   "metadata": {},
   "outputs": [],
   "source": [
    "movie = pd.read_csv(\"C:\\\\Users\\\\PRANAY KUMAR\\\\Downloads\\\\movie_data\\\\movies.csv\")\n",
    "rating = d = pd.read_csv(\"C:\\\\Users\\\\PRANAY KUMAR\\\\Downloads\\\\movie_data\\\\ratings.csv\")\n",
    "link = pd.read_csv(\"C:\\\\Users\\\\PRANAY KUMAR\\\\Downloads\\\\movie_data\\\\links.csv\")"
   ]
  },
  {
   "cell_type": "code",
   "execution_count": 26,
   "id": "b7fdc9db",
   "metadata": {},
   "outputs": [
    {
     "data": {
      "text/plain": [
       "(9742, 3)"
      ]
     },
     "execution_count": 26,
     "metadata": {},
     "output_type": "execute_result"
    }
   ],
   "source": [
    "movie.shape"
   ]
  },
  {
   "cell_type": "code",
   "execution_count": 27,
   "id": "177ac37c",
   "metadata": {},
   "outputs": [
    {
     "data": {
      "text/plain": [
       "(100836, 4)"
      ]
     },
     "execution_count": 27,
     "metadata": {},
     "output_type": "execute_result"
    }
   ],
   "source": [
    "rating.shape"
   ]
  },
  {
   "cell_type": "code",
   "execution_count": 252,
   "id": "2793af20",
   "metadata": {},
   "outputs": [
    {
     "data": {
      "text/plain": [
       "(9742, 3)"
      ]
     },
     "execution_count": 252,
     "metadata": {},
     "output_type": "execute_result"
    }
   ],
   "source": [
    "link.shape"
   ]
  },
  {
   "cell_type": "code",
   "execution_count": 28,
   "id": "9d973656",
   "metadata": {},
   "outputs": [
    {
     "name": "stdout",
     "output_type": "stream",
     "text": [
      "The number of unique userIds in the ratings.csv file is: 610\n"
     ]
    }
   ],
   "source": [
    "unique_user_ids_count = rating['userId'].nunique()\n",
    "\n",
    "print(f\"The number of unique userIds in the ratings.csv file is: {unique_user_ids_count}\")"
   ]
  },
  {
   "cell_type": "code",
   "execution_count": 47,
   "id": "8e9cd70a",
   "metadata": {},
   "outputs": [
    {
     "data": {
      "text/html": [
       "<div>\n",
       "<style scoped>\n",
       "    .dataframe tbody tr th:only-of-type {\n",
       "        vertical-align: middle;\n",
       "    }\n",
       "\n",
       "    .dataframe tbody tr th {\n",
       "        vertical-align: top;\n",
       "    }\n",
       "\n",
       "    .dataframe thead th {\n",
       "        text-align: right;\n",
       "    }\n",
       "</style>\n",
       "<table border=\"1\" class=\"dataframe\">\n",
       "  <thead>\n",
       "    <tr style=\"text-align: right;\">\n",
       "      <th></th>\n",
       "      <th>userId</th>\n",
       "      <th>movieId</th>\n",
       "      <th>rating</th>\n",
       "      <th>timestamp</th>\n",
       "    </tr>\n",
       "  </thead>\n",
       "  <tbody>\n",
       "    <tr>\n",
       "      <th>0</th>\n",
       "      <td>1</td>\n",
       "      <td>1</td>\n",
       "      <td>4.0</td>\n",
       "      <td>964982703</td>\n",
       "    </tr>\n",
       "    <tr>\n",
       "      <th>1</th>\n",
       "      <td>1</td>\n",
       "      <td>3</td>\n",
       "      <td>4.0</td>\n",
       "      <td>964981247</td>\n",
       "    </tr>\n",
       "    <tr>\n",
       "      <th>2</th>\n",
       "      <td>1</td>\n",
       "      <td>6</td>\n",
       "      <td>4.0</td>\n",
       "      <td>964982224</td>\n",
       "    </tr>\n",
       "    <tr>\n",
       "      <th>3</th>\n",
       "      <td>1</td>\n",
       "      <td>47</td>\n",
       "      <td>5.0</td>\n",
       "      <td>964983815</td>\n",
       "    </tr>\n",
       "    <tr>\n",
       "      <th>4</th>\n",
       "      <td>1</td>\n",
       "      <td>50</td>\n",
       "      <td>5.0</td>\n",
       "      <td>964982931</td>\n",
       "    </tr>\n",
       "  </tbody>\n",
       "</table>\n",
       "</div>"
      ],
      "text/plain": [
       "   userId  movieId  rating  timestamp\n",
       "0       1        1     4.0  964982703\n",
       "1       1        3     4.0  964981247\n",
       "2       1        6     4.0  964982224\n",
       "3       1       47     5.0  964983815\n",
       "4       1       50     5.0  964982931"
      ]
     },
     "execution_count": 47,
     "metadata": {},
     "output_type": "execute_result"
    }
   ],
   "source": [
    "rating.head()"
   ]
  },
  {
   "cell_type": "code",
   "execution_count": 82,
   "id": "7403fb6d",
   "metadata": {},
   "outputs": [
    {
     "name": "stdout",
     "output_type": "stream",
     "text": [
      "The movie that received the maximum number of user ratings is: Forrest Gump (1994)\n"
     ]
    }
   ],
   "source": [
    "# Merge ratings with movie titles using movieId as the common column\n",
    "merged_data = pd.merge(rating, movie, on='movieId')\n",
    "\n",
    "# Get the count of ratings per movie\n",
    "rating_counts = merged_data['title'].value_counts()\n",
    "\n",
    "# Find the movie with the maximum number of ratings\n",
    "max_rated_movie = rating_counts.idxmax()\n",
    "\n",
    "print(f\"The movie that received the maximum number of user ratings is: {max_rated_movie}\")"
   ]
  },
  {
   "cell_type": "code",
   "execution_count": 83,
   "id": "379e0551",
   "metadata": {},
   "outputs": [
    {
     "data": {
      "text/plain": [
       "'Forrest Gump (1994)'"
      ]
     },
     "execution_count": 83,
     "metadata": {},
     "output_type": "execute_result"
    }
   ],
   "source": [
    "max_rated_movie"
   ]
  },
  {
   "cell_type": "code",
   "execution_count": 88,
   "id": "ee55f3f0",
   "metadata": {},
   "outputs": [],
   "source": [
    "tags_data = pd.read_csv(\"C:\\\\Users\\\\PRANAY KUMAR\\\\Downloads\\\\movie_data\\\\tags.csv\")\n"
   ]
  },
  {
   "cell_type": "code",
   "execution_count": 90,
   "id": "381b1461",
   "metadata": {},
   "outputs": [],
   "source": [
    "final_merged_data = pd.merge(merged_data, tags_data, on='movieId', how='inner')\n"
   ]
  },
  {
   "cell_type": "code",
   "execution_count": 86,
   "id": "0888b9e1",
   "metadata": {},
   "outputs": [
    {
     "data": {
      "text/html": [
       "<div>\n",
       "<style scoped>\n",
       "    .dataframe tbody tr th:only-of-type {\n",
       "        vertical-align: middle;\n",
       "    }\n",
       "\n",
       "    .dataframe tbody tr th {\n",
       "        vertical-align: top;\n",
       "    }\n",
       "\n",
       "    .dataframe thead th {\n",
       "        text-align: right;\n",
       "    }\n",
       "</style>\n",
       "<table border=\"1\" class=\"dataframe\">\n",
       "  <thead>\n",
       "    <tr style=\"text-align: right;\">\n",
       "      <th></th>\n",
       "      <th>userId</th>\n",
       "      <th>movieId</th>\n",
       "      <th>rating</th>\n",
       "      <th>timestamp</th>\n",
       "      <th>title</th>\n",
       "      <th>genres</th>\n",
       "    </tr>\n",
       "  </thead>\n",
       "  <tbody>\n",
       "    <tr>\n",
       "      <th>0</th>\n",
       "      <td>1</td>\n",
       "      <td>1</td>\n",
       "      <td>4.0</td>\n",
       "      <td>964982703</td>\n",
       "      <td>Toy Story (1995)</td>\n",
       "      <td>Adventure|Animation|Children|Comedy|Fantasy</td>\n",
       "    </tr>\n",
       "    <tr>\n",
       "      <th>1</th>\n",
       "      <td>5</td>\n",
       "      <td>1</td>\n",
       "      <td>4.0</td>\n",
       "      <td>847434962</td>\n",
       "      <td>Toy Story (1995)</td>\n",
       "      <td>Adventure|Animation|Children|Comedy|Fantasy</td>\n",
       "    </tr>\n",
       "    <tr>\n",
       "      <th>2</th>\n",
       "      <td>7</td>\n",
       "      <td>1</td>\n",
       "      <td>4.5</td>\n",
       "      <td>1106635946</td>\n",
       "      <td>Toy Story (1995)</td>\n",
       "      <td>Adventure|Animation|Children|Comedy|Fantasy</td>\n",
       "    </tr>\n",
       "    <tr>\n",
       "      <th>3</th>\n",
       "      <td>15</td>\n",
       "      <td>1</td>\n",
       "      <td>2.5</td>\n",
       "      <td>1510577970</td>\n",
       "      <td>Toy Story (1995)</td>\n",
       "      <td>Adventure|Animation|Children|Comedy|Fantasy</td>\n",
       "    </tr>\n",
       "    <tr>\n",
       "      <th>4</th>\n",
       "      <td>17</td>\n",
       "      <td>1</td>\n",
       "      <td>4.5</td>\n",
       "      <td>1305696483</td>\n",
       "      <td>Toy Story (1995)</td>\n",
       "      <td>Adventure|Animation|Children|Comedy|Fantasy</td>\n",
       "    </tr>\n",
       "    <tr>\n",
       "      <th>...</th>\n",
       "      <td>...</td>\n",
       "      <td>...</td>\n",
       "      <td>...</td>\n",
       "      <td>...</td>\n",
       "      <td>...</td>\n",
       "      <td>...</td>\n",
       "    </tr>\n",
       "    <tr>\n",
       "      <th>100831</th>\n",
       "      <td>610</td>\n",
       "      <td>160341</td>\n",
       "      <td>2.5</td>\n",
       "      <td>1479545749</td>\n",
       "      <td>Bloodmoon (1997)</td>\n",
       "      <td>Action|Thriller</td>\n",
       "    </tr>\n",
       "    <tr>\n",
       "      <th>100832</th>\n",
       "      <td>610</td>\n",
       "      <td>160527</td>\n",
       "      <td>4.5</td>\n",
       "      <td>1479544998</td>\n",
       "      <td>Sympathy for the Underdog (1971)</td>\n",
       "      <td>Action|Crime|Drama</td>\n",
       "    </tr>\n",
       "    <tr>\n",
       "      <th>100833</th>\n",
       "      <td>610</td>\n",
       "      <td>160836</td>\n",
       "      <td>3.0</td>\n",
       "      <td>1493844794</td>\n",
       "      <td>Hazard (2005)</td>\n",
       "      <td>Action|Drama|Thriller</td>\n",
       "    </tr>\n",
       "    <tr>\n",
       "      <th>100834</th>\n",
       "      <td>610</td>\n",
       "      <td>163937</td>\n",
       "      <td>3.5</td>\n",
       "      <td>1493848789</td>\n",
       "      <td>Blair Witch (2016)</td>\n",
       "      <td>Horror|Thriller</td>\n",
       "    </tr>\n",
       "    <tr>\n",
       "      <th>100835</th>\n",
       "      <td>610</td>\n",
       "      <td>163981</td>\n",
       "      <td>3.5</td>\n",
       "      <td>1493850155</td>\n",
       "      <td>31 (2016)</td>\n",
       "      <td>Horror</td>\n",
       "    </tr>\n",
       "  </tbody>\n",
       "</table>\n",
       "<p>100836 rows × 6 columns</p>\n",
       "</div>"
      ],
      "text/plain": [
       "        userId  movieId  rating   timestamp                             title  \\\n",
       "0            1        1     4.0   964982703                  Toy Story (1995)   \n",
       "1            5        1     4.0   847434962                  Toy Story (1995)   \n",
       "2            7        1     4.5  1106635946                  Toy Story (1995)   \n",
       "3           15        1     2.5  1510577970                  Toy Story (1995)   \n",
       "4           17        1     4.5  1305696483                  Toy Story (1995)   \n",
       "...        ...      ...     ...         ...                               ...   \n",
       "100831     610   160341     2.5  1479545749                  Bloodmoon (1997)   \n",
       "100832     610   160527     4.5  1479544998  Sympathy for the Underdog (1971)   \n",
       "100833     610   160836     3.0  1493844794                     Hazard (2005)   \n",
       "100834     610   163937     3.5  1493848789                Blair Witch (2016)   \n",
       "100835     610   163981     3.5  1493850155                         31 (2016)   \n",
       "\n",
       "                                             genres  \n",
       "0       Adventure|Animation|Children|Comedy|Fantasy  \n",
       "1       Adventure|Animation|Children|Comedy|Fantasy  \n",
       "2       Adventure|Animation|Children|Comedy|Fantasy  \n",
       "3       Adventure|Animation|Children|Comedy|Fantasy  \n",
       "4       Adventure|Animation|Children|Comedy|Fantasy  \n",
       "...                                             ...  \n",
       "100831                              Action|Thriller  \n",
       "100832                           Action|Crime|Drama  \n",
       "100833                        Action|Drama|Thriller  \n",
       "100834                              Horror|Thriller  \n",
       "100835                                       Horror  \n",
       "\n",
       "[100836 rows x 6 columns]"
      ]
     },
     "execution_count": 86,
     "metadata": {},
     "output_type": "execute_result"
    }
   ],
   "source": [
    "merged_data\n"
   ]
  },
  {
   "cell_type": "code",
   "execution_count": 91,
   "id": "5a006e2b",
   "metadata": {},
   "outputs": [
    {
     "data": {
      "text/html": [
       "<div>\n",
       "<style scoped>\n",
       "    .dataframe tbody tr th:only-of-type {\n",
       "        vertical-align: middle;\n",
       "    }\n",
       "\n",
       "    .dataframe tbody tr th {\n",
       "        vertical-align: top;\n",
       "    }\n",
       "\n",
       "    .dataframe thead th {\n",
       "        text-align: right;\n",
       "    }\n",
       "</style>\n",
       "<table border=\"1\" class=\"dataframe\">\n",
       "  <thead>\n",
       "    <tr style=\"text-align: right;\">\n",
       "      <th></th>\n",
       "      <th>userId_x</th>\n",
       "      <th>movieId</th>\n",
       "      <th>rating</th>\n",
       "      <th>timestamp_x</th>\n",
       "      <th>title</th>\n",
       "      <th>genres</th>\n",
       "      <th>userId_y</th>\n",
       "      <th>tag</th>\n",
       "      <th>timestamp_y</th>\n",
       "    </tr>\n",
       "  </thead>\n",
       "  <tbody>\n",
       "    <tr>\n",
       "      <th>0</th>\n",
       "      <td>1</td>\n",
       "      <td>1</td>\n",
       "      <td>4.0</td>\n",
       "      <td>964982703</td>\n",
       "      <td>Toy Story (1995)</td>\n",
       "      <td>Adventure|Animation|Children|Comedy|Fantasy</td>\n",
       "      <td>336</td>\n",
       "      <td>pixar</td>\n",
       "      <td>1139045764</td>\n",
       "    </tr>\n",
       "    <tr>\n",
       "      <th>1</th>\n",
       "      <td>1</td>\n",
       "      <td>1</td>\n",
       "      <td>4.0</td>\n",
       "      <td>964982703</td>\n",
       "      <td>Toy Story (1995)</td>\n",
       "      <td>Adventure|Animation|Children|Comedy|Fantasy</td>\n",
       "      <td>474</td>\n",
       "      <td>pixar</td>\n",
       "      <td>1137206825</td>\n",
       "    </tr>\n",
       "    <tr>\n",
       "      <th>2</th>\n",
       "      <td>1</td>\n",
       "      <td>1</td>\n",
       "      <td>4.0</td>\n",
       "      <td>964982703</td>\n",
       "      <td>Toy Story (1995)</td>\n",
       "      <td>Adventure|Animation|Children|Comedy|Fantasy</td>\n",
       "      <td>567</td>\n",
       "      <td>fun</td>\n",
       "      <td>1525286013</td>\n",
       "    </tr>\n",
       "    <tr>\n",
       "      <th>3</th>\n",
       "      <td>5</td>\n",
       "      <td>1</td>\n",
       "      <td>4.0</td>\n",
       "      <td>847434962</td>\n",
       "      <td>Toy Story (1995)</td>\n",
       "      <td>Adventure|Animation|Children|Comedy|Fantasy</td>\n",
       "      <td>336</td>\n",
       "      <td>pixar</td>\n",
       "      <td>1139045764</td>\n",
       "    </tr>\n",
       "    <tr>\n",
       "      <th>4</th>\n",
       "      <td>5</td>\n",
       "      <td>1</td>\n",
       "      <td>4.0</td>\n",
       "      <td>847434962</td>\n",
       "      <td>Toy Story (1995)</td>\n",
       "      <td>Adventure|Animation|Children|Comedy|Fantasy</td>\n",
       "      <td>474</td>\n",
       "      <td>pixar</td>\n",
       "      <td>1137206825</td>\n",
       "    </tr>\n",
       "    <tr>\n",
       "      <th>...</th>\n",
       "      <td>...</td>\n",
       "      <td>...</td>\n",
       "      <td>...</td>\n",
       "      <td>...</td>\n",
       "      <td>...</td>\n",
       "      <td>...</td>\n",
       "      <td>...</td>\n",
       "      <td>...</td>\n",
       "      <td>...</td>\n",
       "    </tr>\n",
       "    <tr>\n",
       "      <th>233208</th>\n",
       "      <td>599</td>\n",
       "      <td>176419</td>\n",
       "      <td>3.5</td>\n",
       "      <td>1516604655</td>\n",
       "      <td>Mother! (2017)</td>\n",
       "      <td>Drama|Horror|Mystery|Thriller</td>\n",
       "      <td>567</td>\n",
       "      <td>uncomfortable</td>\n",
       "      <td>1525287588</td>\n",
       "    </tr>\n",
       "    <tr>\n",
       "      <th>233209</th>\n",
       "      <td>599</td>\n",
       "      <td>176419</td>\n",
       "      <td>3.5</td>\n",
       "      <td>1516604655</td>\n",
       "      <td>Mother! (2017)</td>\n",
       "      <td>Drama|Horror|Mystery|Thriller</td>\n",
       "      <td>567</td>\n",
       "      <td>unsettling</td>\n",
       "      <td>1525287586</td>\n",
       "    </tr>\n",
       "    <tr>\n",
       "      <th>233210</th>\n",
       "      <td>594</td>\n",
       "      <td>7023</td>\n",
       "      <td>4.5</td>\n",
       "      <td>1108972356</td>\n",
       "      <td>Wedding Banquet, The (Xi yan) (1993)</td>\n",
       "      <td>Comedy|Drama|Romance</td>\n",
       "      <td>474</td>\n",
       "      <td>In Netflix queue</td>\n",
       "      <td>1137179697</td>\n",
       "    </tr>\n",
       "    <tr>\n",
       "      <th>233211</th>\n",
       "      <td>606</td>\n",
       "      <td>6107</td>\n",
       "      <td>4.0</td>\n",
       "      <td>1171324428</td>\n",
       "      <td>Night of the Shooting Stars (Notte di San Lore...</td>\n",
       "      <td>Drama|War</td>\n",
       "      <td>606</td>\n",
       "      <td>World War II</td>\n",
       "      <td>1178473747</td>\n",
       "    </tr>\n",
       "    <tr>\n",
       "      <th>233212</th>\n",
       "      <td>606</td>\n",
       "      <td>6516</td>\n",
       "      <td>3.5</td>\n",
       "      <td>1171755910</td>\n",
       "      <td>Anastasia (1956)</td>\n",
       "      <td>Drama</td>\n",
       "      <td>474</td>\n",
       "      <td>In Netflix queue</td>\n",
       "      <td>1137202127</td>\n",
       "    </tr>\n",
       "  </tbody>\n",
       "</table>\n",
       "<p>233213 rows × 9 columns</p>\n",
       "</div>"
      ],
      "text/plain": [
       "        userId_x  movieId  rating  timestamp_x  \\\n",
       "0              1        1     4.0    964982703   \n",
       "1              1        1     4.0    964982703   \n",
       "2              1        1     4.0    964982703   \n",
       "3              5        1     4.0    847434962   \n",
       "4              5        1     4.0    847434962   \n",
       "...          ...      ...     ...          ...   \n",
       "233208       599   176419     3.5   1516604655   \n",
       "233209       599   176419     3.5   1516604655   \n",
       "233210       594     7023     4.5   1108972356   \n",
       "233211       606     6107     4.0   1171324428   \n",
       "233212       606     6516     3.5   1171755910   \n",
       "\n",
       "                                                    title  \\\n",
       "0                                        Toy Story (1995)   \n",
       "1                                        Toy Story (1995)   \n",
       "2                                        Toy Story (1995)   \n",
       "3                                        Toy Story (1995)   \n",
       "4                                        Toy Story (1995)   \n",
       "...                                                   ...   \n",
       "233208                                     Mother! (2017)   \n",
       "233209                                     Mother! (2017)   \n",
       "233210               Wedding Banquet, The (Xi yan) (1993)   \n",
       "233211  Night of the Shooting Stars (Notte di San Lore...   \n",
       "233212                                   Anastasia (1956)   \n",
       "\n",
       "                                             genres  userId_y  \\\n",
       "0       Adventure|Animation|Children|Comedy|Fantasy       336   \n",
       "1       Adventure|Animation|Children|Comedy|Fantasy       474   \n",
       "2       Adventure|Animation|Children|Comedy|Fantasy       567   \n",
       "3       Adventure|Animation|Children|Comedy|Fantasy       336   \n",
       "4       Adventure|Animation|Children|Comedy|Fantasy       474   \n",
       "...                                             ...       ...   \n",
       "233208                Drama|Horror|Mystery|Thriller       567   \n",
       "233209                Drama|Horror|Mystery|Thriller       567   \n",
       "233210                         Comedy|Drama|Romance       474   \n",
       "233211                                    Drama|War       606   \n",
       "233212                                        Drama       474   \n",
       "\n",
       "                     tag  timestamp_y  \n",
       "0                  pixar   1139045764  \n",
       "1                  pixar   1137206825  \n",
       "2                    fun   1525286013  \n",
       "3                  pixar   1139045764  \n",
       "4                  pixar   1137206825  \n",
       "...                  ...          ...  \n",
       "233208     uncomfortable   1525287588  \n",
       "233209        unsettling   1525287586  \n",
       "233210  In Netflix queue   1137179697  \n",
       "233211      World War II   1178473747  \n",
       "233212  In Netflix queue   1137202127  \n",
       "\n",
       "[233213 rows x 9 columns]"
      ]
     },
     "execution_count": 91,
     "metadata": {},
     "output_type": "execute_result"
    }
   ],
   "source": [
    "final_merged_data"
   ]
  },
  {
   "cell_type": "code",
   "execution_count": 92,
   "id": "2faf5c42",
   "metadata": {},
   "outputs": [
    {
     "data": {
      "text/plain": [
       "userId_x         610\n",
       "movieId         1554\n",
       "rating            10\n",
       "timestamp_x    42210\n",
       "title           1554\n",
       "genres           370\n",
       "userId_y          56\n",
       "tag             1584\n",
       "timestamp_y     3392\n",
       "dtype: int64"
      ]
     },
     "execution_count": 92,
     "metadata": {},
     "output_type": "execute_result"
    }
   ],
   "source": [
    "final_merged_data.nunique()"
   ]
  },
  {
   "cell_type": "code",
   "execution_count": 99,
   "id": "94320d9c",
   "metadata": {},
   "outputs": [
    {
     "name": "stdout",
     "output_type": "stream",
     "text": [
      "Tags submitted by users for 'Matrix, The (1999)':\n",
      "martial arts\n",
      "sci-fi\n",
      "alternate universe\n",
      "philosophy\n",
      "post apocalyptic\n"
     ]
    }
   ],
   "source": [
    "# Filter tags for the movie \"Matrix, The (1999)\"\n",
    "matrix_tags = final_merged_data[final_merged_data['title'] == 'Matrix, The (1999)']['tag']\n",
    "\n",
    "# Display unique tags for the movie\n",
    "unique_tags = matrix_tags.unique()\n",
    "print(\"Tags submitted by users for 'Matrix, The (1999)':\")\n",
    "for tag in unique_tags:\n",
    "    print(tag)\n"
   ]
  },
  {
   "cell_type": "code",
   "execution_count": 106,
   "id": "45c75bbc",
   "metadata": {},
   "outputs": [
    {
     "name": "stdout",
     "output_type": "stream",
     "text": [
      "The average user rating for 'Terminator 2: Judgment Day (1991)' is: 3.97\n"
     ]
    }
   ],
   "source": [
    "# Filter ratings for the movie \"Terminator 2: Judgment Day (1991)\"\n",
    "movie_title = \"Terminator 2: Judgment Day (1991)\"\n",
    "filtered_ratings = final_merged_data[final_merged_data['title'] == movie_title]\n",
    "\n",
    "# Calculate the average rating for the movie\n",
    "average_rating = filtered_ratings['rating'].mean()\n",
    "\n",
    "print(f\"The average user rating for '{movie_title}' is: {average_rating:.2f}\")\n"
   ]
  },
  {
   "cell_type": "code",
   "execution_count": 107,
   "id": "6fbfee74",
   "metadata": {},
   "outputs": [
    {
     "data": {
      "image/png": "[encoded data removed]",
      "text/plain": [
       "<Figure size 800x600 with 1 Axes>"
      ]
     },
     "metadata": {},
     "output_type": "display_data"
    }
   ],
   "source": [
    "import matplotlib.pyplot as plt\n",
    "\n",
    "# Assuming 'ratings_data' contains movie ratings with columns: 'movieTitle' and 'rating'\n",
    "\n",
    "# Filter ratings for the movie \"Fight Club (1999)\"\n",
    "movie_title1 = \"Fight Club (1999)\"\n",
    "filtering_ratings = final_merged_data[final_merged_data['title'] == movie_title1]\n",
    "\n",
    "# Create a histogram of user ratings for the movie\n",
    "plt.figure(figsize=(8, 6))\n",
    "plt.hist(filtering_ratings['rating'], bins=10, color='skyblue', edgecolor='black')\n",
    "plt.xlabel('Rating')\n",
    "plt.ylabel('Frequency')\n",
    "plt.title(f'Distribution of User Ratings for \"{movie_title}\"')\n",
    "plt.grid(axis='y', alpha=0.5)\n",
    "plt.show()\n"
   ]
  },
  {
   "cell_type": "code",
   "execution_count": 111,
   "id": "dd1703b9",
   "metadata": {},
   "outputs": [
    {
     "name": "stdout",
     "output_type": "stream",
     "text": [
      "      movieId  rating_count  rating_mean\n",
      "0           1           645     3.920930\n",
      "1           2           440     3.431818\n",
      "2           3           104     3.259615\n",
      "3           5            98     3.071429\n",
      "4           7            54     3.185185\n",
      "...       ...           ...          ...\n",
      "1549   183611             3     4.000000\n",
      "1550   184471            12     2.500000\n",
      "1551   187593            36     3.875000\n",
      "1552   187595            10     3.900000\n",
      "1553   193565             4     3.500000\n",
      "\n",
      "[1554 rows x 3 columns]\n"
     ]
    }
   ],
   "source": [
    "import pandas as pd\n",
    "\n",
    "# Assuming 'ratings' DataFrame contains columns: 'movieId' and 'rating'\n",
    "\n",
    "# Group ratings by movieId and calculate count and mean of ratings\n",
    "grouped_ratings = final_merged_data.groupby('movieId')['rating'].agg(['count', 'mean']).reset_index()\n",
    "grouped_ratings.columns = ['movieId', 'rating_count', 'rating_mean']\n",
    "\n",
    "# Display the resulting DataFrame with count and mean ratings per movieId\n",
    "print(grouped_ratings)\n"
   ]
  },
  {
   "cell_type": "code",
   "execution_count": 112,
   "id": "3a0efb1a",
   "metadata": {},
   "outputs": [
    {
     "data": {
      "text/plain": [
       "Index(['userId_x', 'movieId', 'rating', 'timestamp_x', 'title', 'genres',\n",
       "       'userId_y', 'tag', 'timestamp_y'],\n",
       "      dtype='object')"
      ]
     },
     "execution_count": 112,
     "metadata": {},
     "output_type": "execute_result"
    }
   ],
   "source": [
    "final_merged_data.columns"
   ]
  },
  {
   "cell_type": "code",
   "execution_count": 208,
   "id": "ba40adf8",
   "metadata": {},
   "outputs": [],
   "source": [
    "merg_data = pd.merge(movie, grouped_ratings, on='movieId', how='inner')\n",
    "mer_data = pd.merge(merg_data, link, on='movieId')\n"
   ]
  },
  {
   "cell_type": "code",
   "execution_count": 217,
   "id": "e568f5d3",
   "metadata": {},
   "outputs": [
    {
     "data": {
      "text/html": [
       "<div>\n",
       "<style scoped>\n",
       "    .dataframe tbody tr th:only-of-type {\n",
       "        vertical-align: middle;\n",
       "    }\n",
       "\n",
       "    .dataframe tbody tr th {\n",
       "        vertical-align: top;\n",
       "    }\n",
       "\n",
       "    .dataframe thead th {\n",
       "        text-align: right;\n",
       "    }\n",
       "</style>\n",
       "<table border=\"1\" class=\"dataframe\">\n",
       "  <thead>\n",
       "    <tr style=\"text-align: right;\">\n",
       "      <th></th>\n",
       "      <th>movieId</th>\n",
       "      <th>title</th>\n",
       "      <th>genres</th>\n",
       "      <th>rating_count</th>\n",
       "      <th>rating_mean</th>\n",
       "      <th>imdbId</th>\n",
       "      <th>tmdbId</th>\n",
       "    </tr>\n",
       "  </thead>\n",
       "  <tbody>\n",
       "    <tr>\n",
       "      <th>0</th>\n",
       "      <td>1</td>\n",
       "      <td>Toy Story (1995)</td>\n",
       "      <td>Adventure|Animation|Children|Comedy|Fantasy</td>\n",
       "      <td>645</td>\n",
       "      <td>3.920930</td>\n",
       "      <td>114709</td>\n",
       "      <td>862.0</td>\n",
       "    </tr>\n",
       "    <tr>\n",
       "      <th>1</th>\n",
       "      <td>2</td>\n",
       "      <td>Jumanji (1995)</td>\n",
       "      <td>Adventure|Children|Fantasy</td>\n",
       "      <td>440</td>\n",
       "      <td>3.431818</td>\n",
       "      <td>113497</td>\n",
       "      <td>8844.0</td>\n",
       "    </tr>\n",
       "    <tr>\n",
       "      <th>2</th>\n",
       "      <td>3</td>\n",
       "      <td>Grumpier Old Men (1995)</td>\n",
       "      <td>Comedy|Romance</td>\n",
       "      <td>104</td>\n",
       "      <td>3.259615</td>\n",
       "      <td>113228</td>\n",
       "      <td>15602.0</td>\n",
       "    </tr>\n",
       "    <tr>\n",
       "      <th>3</th>\n",
       "      <td>5</td>\n",
       "      <td>Father of the Bride Part II (1995)</td>\n",
       "      <td>Comedy</td>\n",
       "      <td>98</td>\n",
       "      <td>3.071429</td>\n",
       "      <td>113041</td>\n",
       "      <td>11862.0</td>\n",
       "    </tr>\n",
       "    <tr>\n",
       "      <th>4</th>\n",
       "      <td>7</td>\n",
       "      <td>Sabrina (1995)</td>\n",
       "      <td>Comedy|Romance</td>\n",
       "      <td>54</td>\n",
       "      <td>3.185185</td>\n",
       "      <td>114319</td>\n",
       "      <td>11860.0</td>\n",
       "    </tr>\n",
       "    <tr>\n",
       "      <th>...</th>\n",
       "      <td>...</td>\n",
       "      <td>...</td>\n",
       "      <td>...</td>\n",
       "      <td>...</td>\n",
       "      <td>...</td>\n",
       "      <td>...</td>\n",
       "      <td>...</td>\n",
       "    </tr>\n",
       "    <tr>\n",
       "      <th>1549</th>\n",
       "      <td>183611</td>\n",
       "      <td>Game Night (2018)</td>\n",
       "      <td>Action|Comedy|Crime|Horror</td>\n",
       "      <td>3</td>\n",
       "      <td>4.000000</td>\n",
       "      <td>2704998</td>\n",
       "      <td>445571.0</td>\n",
       "    </tr>\n",
       "    <tr>\n",
       "      <th>1550</th>\n",
       "      <td>184471</td>\n",
       "      <td>Tomb Raider (2018)</td>\n",
       "      <td>Action|Adventure|Fantasy</td>\n",
       "      <td>12</td>\n",
       "      <td>2.500000</td>\n",
       "      <td>1365519</td>\n",
       "      <td>338970.0</td>\n",
       "    </tr>\n",
       "    <tr>\n",
       "      <th>1551</th>\n",
       "      <td>187593</td>\n",
       "      <td>Deadpool 2 (2018)</td>\n",
       "      <td>Action|Comedy|Sci-Fi</td>\n",
       "      <td>36</td>\n",
       "      <td>3.875000</td>\n",
       "      <td>5463162</td>\n",
       "      <td>383498.0</td>\n",
       "    </tr>\n",
       "    <tr>\n",
       "      <th>1552</th>\n",
       "      <td>187595</td>\n",
       "      <td>Solo: A Star Wars Story (2018)</td>\n",
       "      <td>Action|Adventure|Children|Sci-Fi</td>\n",
       "      <td>10</td>\n",
       "      <td>3.900000</td>\n",
       "      <td>3778644</td>\n",
       "      <td>348350.0</td>\n",
       "    </tr>\n",
       "    <tr>\n",
       "      <th>1553</th>\n",
       "      <td>193565</td>\n",
       "      <td>Gintama: The Movie (2010)</td>\n",
       "      <td>Action|Animation|Comedy|Sci-Fi</td>\n",
       "      <td>4</td>\n",
       "      <td>3.500000</td>\n",
       "      <td>1636780</td>\n",
       "      <td>71172.0</td>\n",
       "    </tr>\n",
       "  </tbody>\n",
       "</table>\n",
       "<p>1554 rows × 7 columns</p>\n",
       "</div>"
      ],
      "text/plain": [
       "      movieId                               title  \\\n",
       "0           1                    Toy Story (1995)   \n",
       "1           2                      Jumanji (1995)   \n",
       "2           3             Grumpier Old Men (1995)   \n",
       "3           5  Father of the Bride Part II (1995)   \n",
       "4           7                      Sabrina (1995)   \n",
       "...       ...                                 ...   \n",
       "1549   183611                   Game Night (2018)   \n",
       "1550   184471                  Tomb Raider (2018)   \n",
       "1551   187593                   Deadpool 2 (2018)   \n",
       "1552   187595      Solo: A Star Wars Story (2018)   \n",
       "1553   193565           Gintama: The Movie (2010)   \n",
       "\n",
       "                                           genres  rating_count  rating_mean  \\\n",
       "0     Adventure|Animation|Children|Comedy|Fantasy           645     3.920930   \n",
       "1                      Adventure|Children|Fantasy           440     3.431818   \n",
       "2                                  Comedy|Romance           104     3.259615   \n",
       "3                                          Comedy            98     3.071429   \n",
       "4                                  Comedy|Romance            54     3.185185   \n",
       "...                                           ...           ...          ...   \n",
       "1549                   Action|Comedy|Crime|Horror             3     4.000000   \n",
       "1550                     Action|Adventure|Fantasy            12     2.500000   \n",
       "1551                         Action|Comedy|Sci-Fi            36     3.875000   \n",
       "1552             Action|Adventure|Children|Sci-Fi            10     3.900000   \n",
       "1553               Action|Animation|Comedy|Sci-Fi             4     3.500000   \n",
       "\n",
       "       imdbId    tmdbId  \n",
       "0      114709     862.0  \n",
       "1      113497    8844.0  \n",
       "2      113228   15602.0  \n",
       "3      113041   11862.0  \n",
       "4      114319   11860.0  \n",
       "...       ...       ...  \n",
       "1549  2704998  445571.0  \n",
       "1550  1365519  338970.0  \n",
       "1551  5463162  383498.0  \n",
       "1552  3778644  348350.0  \n",
       "1553  1636780   71172.0  \n",
       "\n",
       "[1554 rows x 7 columns]"
      ]
     },
     "execution_count": 217,
     "metadata": {},
     "output_type": "execute_result"
    }
   ],
   "source": [
    "mer_data"
   ]
  },
  {
   "cell_type": "code",
   "execution_count": 218,
   "id": "9e3f4b75",
   "metadata": {},
   "outputs": [
    {
     "name": "stdout",
     "output_type": "stream",
     "text": [
      "      movieId                               title  \\\n",
      "0           1                    Toy Story (1995)   \n",
      "1           2                      Jumanji (1995)   \n",
      "2           3             Grumpier Old Men (1995)   \n",
      "3           5  Father of the Bride Part II (1995)   \n",
      "4           7                      Sabrina (1995)   \n",
      "...       ...                                 ...   \n",
      "1525   148626               Big Short, The (2015)   \n",
      "1536   164179                      Arrival (2016)   \n",
      "1539   168248       John Wick: Chapter Two (2017)   \n",
      "1540   168252                        Logan (2017)   \n",
      "1544   176371            Blade Runner 2049 (2017)   \n",
      "\n",
      "                                           genres  rating_count  rating_mean  \\\n",
      "0     Adventure|Animation|Children|Comedy|Fantasy           645     3.920930   \n",
      "1                      Adventure|Children|Fantasy           440     3.431818   \n",
      "2                                  Comedy|Romance           104     3.259615   \n",
      "3                                          Comedy            98     3.071429   \n",
      "4                                  Comedy|Romance            54     3.185185   \n",
      "...                                           ...           ...          ...   \n",
      "1525                                        Drama            78     3.961538   \n",
      "1536                                       Sci-Fi           182     3.980769   \n",
      "1539                        Action|Crime|Thriller            56     4.142857   \n",
      "1540                                Action|Sci-Fi           125     4.280000   \n",
      "1544                                       Sci-Fi           144     3.805556   \n",
      "\n",
      "       imdbId    tmdbId  \n",
      "0      114709     862.0  \n",
      "1      113497    8844.0  \n",
      "2      113228   15602.0  \n",
      "3      113041   11862.0  \n",
      "4      114319   11860.0  \n",
      "...       ...       ...  \n",
      "1525  1596363  318846.0  \n",
      "1536  2543164  329865.0  \n",
      "1539  4425200  324552.0  \n",
      "1540  3315342  263115.0  \n",
      "1544  1856101  335984.0  \n",
      "\n",
      "[480 rows x 7 columns]\n"
     ]
    }
   ],
   "source": [
    "# Assuming 'merged_data' DataFrame is obtained from the merge operation\n",
    "\n",
    "# Filter movies with more than 50 user ratings\n",
    "fil_movies = mer_data[mer_data['rating_count'] > 50]\n",
    "\n",
    "# Display the resulting DataFrame\n",
    "print(fil_movies)\n"
   ]
  },
  {
   "cell_type": "code",
   "execution_count": 219,
   "id": "4d690ff8",
   "metadata": {},
   "outputs": [],
   "source": [
    "d = fil_movies[\"rating_count\"]<50"
   ]
  },
  {
   "cell_type": "code",
   "execution_count": 220,
   "id": "497ba15d",
   "metadata": {},
   "outputs": [
    {
     "data": {
      "text/plain": [
       "False    480\n",
       "Name: rating_count, dtype: int64"
      ]
     },
     "execution_count": 220,
     "metadata": {},
     "output_type": "execute_result"
    }
   ],
   "source": [
    "d.value_counts()"
   ]
  },
  {
   "cell_type": "code",
   "execution_count": 221,
   "id": "b0482252",
   "metadata": {},
   "outputs": [
    {
     "name": "stdout",
     "output_type": "stream",
     "text": [
      "The most popular movie based on average user ratings is:\n",
      "    movieId                             title  rating_mean\n",
      "83      318  Shawshank Redemption, The (1994)     4.429022\n"
     ]
    }
   ],
   "source": [
    "most_popular_movie = fil_movies.loc[fil_movies['rating_count'] > 50].nlargest(1, 'rating_mean')\n",
    "print(\"The most popular movie based on average user ratings is:\")\n",
    "print(most_popular_movie[['movieId', 'title', 'rating_mean']])\n"
   ]
  },
  {
   "cell_type": "code",
   "execution_count": 222,
   "id": "faa1d867",
   "metadata": {},
   "outputs": [
    {
     "name": "stdout",
     "output_type": "stream",
     "text": [
      "Top 5 popular movies based on the number of user ratings:\n",
      "     movieId                                              title  rating_count\n",
      "77       296                                Pulp Fiction (1994)         55567\n",
      "637     2959                                  Fight Club (1999)         11772\n",
      "65       260          Star Wars: Episode IV - A New Hope (1977)          6526\n",
      "76       293  Léon: The Professional (a.k.a. The Professiona...          4655\n",
      "206      924                       2001: A Space Odyssey (1968)          4469\n"
     ]
    }
   ],
   "source": [
    "# Assuming 'filtered_movies' DataFrame contains movie details and user ratings\n",
    "\n",
    "# Sort movies by the number of user ratings in descending order\n",
    "top_5_popular_movies = fil_movies.nlargest(5, 'rating_count')\n",
    "\n",
    "# Display the top 5 popular movies based on the number of user ratings\n",
    "print(\"Top 5 popular movies based on the number of user ratings:\")\n",
    "print(top_5_popular_movies[['movieId', 'title', 'rating_count']])\n"
   ]
  },
  {
   "cell_type": "code",
   "execution_count": 223,
   "id": "982615d5",
   "metadata": {},
   "outputs": [
    {
     "data": {
      "text/html": [
       "<div>\n",
       "<style scoped>\n",
       "    .dataframe tbody tr th:only-of-type {\n",
       "        vertical-align: middle;\n",
       "    }\n",
       "\n",
       "    .dataframe tbody tr th {\n",
       "        vertical-align: top;\n",
       "    }\n",
       "\n",
       "    .dataframe thead th {\n",
       "        text-align: right;\n",
       "    }\n",
       "</style>\n",
       "<table border=\"1\" class=\"dataframe\">\n",
       "  <thead>\n",
       "    <tr style=\"text-align: right;\">\n",
       "      <th></th>\n",
       "      <th>movieId</th>\n",
       "      <th>title</th>\n",
       "      <th>genres</th>\n",
       "      <th>rating_count</th>\n",
       "      <th>rating_mean</th>\n",
       "      <th>imdbId</th>\n",
       "      <th>tmdbId</th>\n",
       "    </tr>\n",
       "  </thead>\n",
       "  <tbody>\n",
       "    <tr>\n",
       "      <th>77</th>\n",
       "      <td>296</td>\n",
       "      <td>Pulp Fiction (1994)</td>\n",
       "      <td>Comedy|Crime|Drama|Thriller</td>\n",
       "      <td>55567</td>\n",
       "      <td>4.197068</td>\n",
       "      <td>110912</td>\n",
       "      <td>680.0</td>\n",
       "    </tr>\n",
       "    <tr>\n",
       "      <th>637</th>\n",
       "      <td>2959</td>\n",
       "      <td>Fight Club (1999)</td>\n",
       "      <td>Action|Crime|Drama|Thriller</td>\n",
       "      <td>11772</td>\n",
       "      <td>4.272936</td>\n",
       "      <td>137523</td>\n",
       "      <td>550.0</td>\n",
       "    </tr>\n",
       "    <tr>\n",
       "      <th>65</th>\n",
       "      <td>260</td>\n",
       "      <td>Star Wars: Episode IV - A New Hope (1977)</td>\n",
       "      <td>Action|Adventure|Sci-Fi</td>\n",
       "      <td>6526</td>\n",
       "      <td>4.231076</td>\n",
       "      <td>76759</td>\n",
       "      <td>11.0</td>\n",
       "    </tr>\n",
       "    <tr>\n",
       "      <th>76</th>\n",
       "      <td>293</td>\n",
       "      <td>Léon: The Professional (a.k.a. The Professiona...</td>\n",
       "      <td>Action|Crime|Drama|Thriller</td>\n",
       "      <td>4655</td>\n",
       "      <td>4.018797</td>\n",
       "      <td>110413</td>\n",
       "      <td>101.0</td>\n",
       "    </tr>\n",
       "    <tr>\n",
       "      <th>206</th>\n",
       "      <td>924</td>\n",
       "      <td>2001: A Space Odyssey (1968)</td>\n",
       "      <td>Adventure|Drama|Sci-Fi</td>\n",
       "      <td>4469</td>\n",
       "      <td>3.894495</td>\n",
       "      <td>62622</td>\n",
       "      <td>62.0</td>\n",
       "    </tr>\n",
       "  </tbody>\n",
       "</table>\n",
       "</div>"
      ],
      "text/plain": [
       "     movieId                                              title  \\\n",
       "77       296                                Pulp Fiction (1994)   \n",
       "637     2959                                  Fight Club (1999)   \n",
       "65       260          Star Wars: Episode IV - A New Hope (1977)   \n",
       "76       293  Léon: The Professional (a.k.a. The Professiona...   \n",
       "206      924                       2001: A Space Odyssey (1968)   \n",
       "\n",
       "                          genres  rating_count  rating_mean  imdbId  tmdbId  \n",
       "77   Comedy|Crime|Drama|Thriller         55567     4.197068  110912   680.0  \n",
       "637  Action|Crime|Drama|Thriller         11772     4.272936  137523   550.0  \n",
       "65       Action|Adventure|Sci-Fi          6526     4.231076   76759    11.0  \n",
       "76   Action|Crime|Drama|Thriller          4655     4.018797  110413   101.0  \n",
       "206       Adventure|Drama|Sci-Fi          4469     3.894495   62622    62.0  "
      ]
     },
     "execution_count": 223,
     "metadata": {},
     "output_type": "execute_result"
    }
   ],
   "source": [
    "top_5_popular_movies"
   ]
  },
  {
   "cell_type": "code",
   "execution_count": 224,
   "id": "b2ec2ef6",
   "metadata": {},
   "outputs": [
    {
     "name": "stdout",
     "output_type": "stream",
     "text": [
      "The third most popular Sci-Fi movie based on the number of user ratings is:\n",
      "movieId                                                 7361\n",
      "title           Eternal Sunshine of the Spotless Mind (2004)\n",
      "rating_count                                            4454\n",
      "Name: 1140, dtype: object\n"
     ]
    }
   ],
   "source": [
    "# Assuming 'filtered_movies' DataFrame contains movie details including genres and user ratings\n",
    "\n",
    "# Filter Sci-Fi movies\n",
    "sci_fi_movies = fil_movies[fil_movies['genres'].str.contains('Sci-Fi')]\n",
    "\n",
    "# Sort Sci-Fi movies by the number of user ratings in descending order\n",
    "sorted_sci_fi_movies = sci_fi_movies.nlargest(len(sci_fi_movies), 'rating_count')\n",
    "\n",
    "# Identify the third most popular Sci-Fi movie based on the number of user ratings\n",
    "third_most_popular_sci_fi_movie = sorted_sci_fi_movies.iloc[2]  # Index 2 for the third movie\n",
    "\n",
    "# Display the third most popular Sci-Fi movie based on the number of user ratings\n",
    "print(\"The third most popular Sci-Fi movie based on the number of user ratings is:\")\n",
    "print(third_most_popular_sci_fi_movie[['movieId', 'title', 'rating_count']])\n"
   ]
  },
  {
   "cell_type": "code",
   "execution_count": 225,
   "id": "50d93622",
   "metadata": {},
   "outputs": [
    {
     "data": {
      "text/html": [
       "<div>\n",
       "<style scoped>\n",
       "    .dataframe tbody tr th:only-of-type {\n",
       "        vertical-align: middle;\n",
       "    }\n",
       "\n",
       "    .dataframe tbody tr th {\n",
       "        vertical-align: top;\n",
       "    }\n",
       "\n",
       "    .dataframe thead th {\n",
       "        text-align: right;\n",
       "    }\n",
       "</style>\n",
       "<table border=\"1\" class=\"dataframe\">\n",
       "  <thead>\n",
       "    <tr style=\"text-align: right;\">\n",
       "      <th></th>\n",
       "      <th>movieId</th>\n",
       "      <th>title</th>\n",
       "      <th>genres</th>\n",
       "      <th>rating_count</th>\n",
       "      <th>rating_mean</th>\n",
       "      <th>imdbId</th>\n",
       "      <th>tmdbId</th>\n",
       "    </tr>\n",
       "  </thead>\n",
       "  <tbody>\n",
       "    <tr>\n",
       "      <th>0</th>\n",
       "      <td>1</td>\n",
       "      <td>Toy Story (1995)</td>\n",
       "      <td>Adventure|Animation|Children|Comedy|Fantasy</td>\n",
       "      <td>645</td>\n",
       "      <td>3.920930</td>\n",
       "      <td>114709</td>\n",
       "      <td>862.0</td>\n",
       "    </tr>\n",
       "    <tr>\n",
       "      <th>1</th>\n",
       "      <td>2</td>\n",
       "      <td>Jumanji (1995)</td>\n",
       "      <td>Adventure|Children|Fantasy</td>\n",
       "      <td>440</td>\n",
       "      <td>3.431818</td>\n",
       "      <td>113497</td>\n",
       "      <td>8844.0</td>\n",
       "    </tr>\n",
       "    <tr>\n",
       "      <th>2</th>\n",
       "      <td>3</td>\n",
       "      <td>Grumpier Old Men (1995)</td>\n",
       "      <td>Comedy|Romance</td>\n",
       "      <td>104</td>\n",
       "      <td>3.259615</td>\n",
       "      <td>113228</td>\n",
       "      <td>15602.0</td>\n",
       "    </tr>\n",
       "    <tr>\n",
       "      <th>3</th>\n",
       "      <td>5</td>\n",
       "      <td>Father of the Bride Part II (1995)</td>\n",
       "      <td>Comedy</td>\n",
       "      <td>98</td>\n",
       "      <td>3.071429</td>\n",
       "      <td>113041</td>\n",
       "      <td>11862.0</td>\n",
       "    </tr>\n",
       "    <tr>\n",
       "      <th>4</th>\n",
       "      <td>7</td>\n",
       "      <td>Sabrina (1995)</td>\n",
       "      <td>Comedy|Romance</td>\n",
       "      <td>54</td>\n",
       "      <td>3.185185</td>\n",
       "      <td>114319</td>\n",
       "      <td>11860.0</td>\n",
       "    </tr>\n",
       "    <tr>\n",
       "      <th>...</th>\n",
       "      <td>...</td>\n",
       "      <td>...</td>\n",
       "      <td>...</td>\n",
       "      <td>...</td>\n",
       "      <td>...</td>\n",
       "      <td>...</td>\n",
       "      <td>...</td>\n",
       "    </tr>\n",
       "    <tr>\n",
       "      <th>1525</th>\n",
       "      <td>148626</td>\n",
       "      <td>Big Short, The (2015)</td>\n",
       "      <td>Drama</td>\n",
       "      <td>78</td>\n",
       "      <td>3.961538</td>\n",
       "      <td>1596363</td>\n",
       "      <td>318846.0</td>\n",
       "    </tr>\n",
       "    <tr>\n",
       "      <th>1536</th>\n",
       "      <td>164179</td>\n",
       "      <td>Arrival (2016)</td>\n",
       "      <td>Sci-Fi</td>\n",
       "      <td>182</td>\n",
       "      <td>3.980769</td>\n",
       "      <td>2543164</td>\n",
       "      <td>329865.0</td>\n",
       "    </tr>\n",
       "    <tr>\n",
       "      <th>1539</th>\n",
       "      <td>168248</td>\n",
       "      <td>John Wick: Chapter Two (2017)</td>\n",
       "      <td>Action|Crime|Thriller</td>\n",
       "      <td>56</td>\n",
       "      <td>4.142857</td>\n",
       "      <td>4425200</td>\n",
       "      <td>324552.0</td>\n",
       "    </tr>\n",
       "    <tr>\n",
       "      <th>1540</th>\n",
       "      <td>168252</td>\n",
       "      <td>Logan (2017)</td>\n",
       "      <td>Action|Sci-Fi</td>\n",
       "      <td>125</td>\n",
       "      <td>4.280000</td>\n",
       "      <td>3315342</td>\n",
       "      <td>263115.0</td>\n",
       "    </tr>\n",
       "    <tr>\n",
       "      <th>1544</th>\n",
       "      <td>176371</td>\n",
       "      <td>Blade Runner 2049 (2017)</td>\n",
       "      <td>Sci-Fi</td>\n",
       "      <td>144</td>\n",
       "      <td>3.805556</td>\n",
       "      <td>1856101</td>\n",
       "      <td>335984.0</td>\n",
       "    </tr>\n",
       "  </tbody>\n",
       "</table>\n",
       "<p>480 rows × 7 columns</p>\n",
       "</div>"
      ],
      "text/plain": [
       "      movieId                               title  \\\n",
       "0           1                    Toy Story (1995)   \n",
       "1           2                      Jumanji (1995)   \n",
       "2           3             Grumpier Old Men (1995)   \n",
       "3           5  Father of the Bride Part II (1995)   \n",
       "4           7                      Sabrina (1995)   \n",
       "...       ...                                 ...   \n",
       "1525   148626               Big Short, The (2015)   \n",
       "1536   164179                      Arrival (2016)   \n",
       "1539   168248       John Wick: Chapter Two (2017)   \n",
       "1540   168252                        Logan (2017)   \n",
       "1544   176371            Blade Runner 2049 (2017)   \n",
       "\n",
       "                                           genres  rating_count  rating_mean  \\\n",
       "0     Adventure|Animation|Children|Comedy|Fantasy           645     3.920930   \n",
       "1                      Adventure|Children|Fantasy           440     3.431818   \n",
       "2                                  Comedy|Romance           104     3.259615   \n",
       "3                                          Comedy            98     3.071429   \n",
       "4                                  Comedy|Romance            54     3.185185   \n",
       "...                                           ...           ...          ...   \n",
       "1525                                        Drama            78     3.961538   \n",
       "1536                                       Sci-Fi           182     3.980769   \n",
       "1539                        Action|Crime|Thriller            56     4.142857   \n",
       "1540                                Action|Sci-Fi           125     4.280000   \n",
       "1544                                       Sci-Fi           144     3.805556   \n",
       "\n",
       "       imdbId    tmdbId  \n",
       "0      114709     862.0  \n",
       "1      113497    8844.0  \n",
       "2      113228   15602.0  \n",
       "3      113041   11862.0  \n",
       "4      114319   11860.0  \n",
       "...       ...       ...  \n",
       "1525  1596363  318846.0  \n",
       "1536  2543164  329865.0  \n",
       "1539  4425200  324552.0  \n",
       "1540  3315342  263115.0  \n",
       "1544  1856101  335984.0  \n",
       "\n",
       "[480 rows x 7 columns]"
      ]
     },
     "execution_count": 225,
     "metadata": {},
     "output_type": "execute_result"
    }
   ],
   "source": [
    "fil_movies"
   ]
  },
  {
   "cell_type": "code",
   "execution_count": 184,
   "id": "5024f07c",
   "metadata": {},
   "outputs": [],
   "source": [
    "import requests\n",
    "import numpy as np\n",
    "from bs4 import BeautifulSoup\n",
    "\n",
    "def scrapper(imdbId):\n",
    "    id = str(int(imdbId))\n",
    "    n_zeroes = 7 - len(id)\n",
    "    new_id = \"0\" * n_zeroes + id\n",
    "    URL = f\"https://www.imdb.com/title/tt{new_id}/\"\n",
    "    request_header = {\n",
    "        'Content-Type': 'text/html; charset=UTF-8',\n",
    "        'User-Agent': 'Mozilla/5.0 (Windows NT 10.0; Win64; x64; rv:109.0) Gecko/20100101 Firefox/119.0',\n",
    "        'Accept-Encoding': 'gzip, deflate, br'\n",
    "    }\n",
    "    \n",
    "    # Send GET request to the IMDb URL\n",
    "    response = requests.get(URL, headers=request_header)\n",
    "    \n",
    "    # Parse HTML content using BeautifulSoup\n",
    "    soup = BeautifulSoup(response.text, 'html.parser')\n",
    "    \n",
    "    # Find the IMDb rating element\n",
    "    imdb_rating = soup.find('span', itemprop='ratingValue')\n",
    "    \n",
    "    return imdb_rating.text if imdb_rating else np.nan\n"
   ]
  },
  {
   "cell_type": "code",
   "execution_count": 228,
   "id": "722c7a9d",
   "metadata": {
    "scrolled": true
   },
   "outputs": [
    {
     "name": "stdout",
     "output_type": "stream",
     "text": [
      "The movieId of the movie with the highest IMDb rating is: 168248\n"
     ]
    },
    {
     "name": "stderr",
     "output_type": "stream",
     "text": [
      "C:\\Users\\PRANAY KUMAR\\AppData\\Local\\Temp\\ipykernel_23560\\2469541242.py:5: SettingWithCopyWarning: \n",
      "A value is trying to be set on a copy of a slice from a DataFrame.\n",
      "Try using .loc[row_indexer,col_indexer] = value instead\n",
      "\n",
      "See the caveats in the documentation: https://pandas.pydata.org/pandas-docs/stable/user_guide/indexing.html#returning-a-view-versus-a-copy\n",
      "  fil_movies['imdbId'] = pd.to_numeric(fil_movies['imdbId'], errors='coerce')\n"
     ]
    }
   ],
   "source": [
    "# Convert IMDb ratings to numeric values\n",
    "fil_movies['imdbId'] = pd.to_numeric(fil_movies['imdbId'], errors='coerce')\n",
    "\n",
    "# Find the row with the highest IMDb rating\n",
    "highest_rated_movie = fil_movies.loc[fil_movies['imdbId'].idxmax()]\n",
    "\n",
    "# Extract movieId of the movie with the highest IMDb rating\n",
    "highest_rated_movie_id = highest_rated_movie['movieId']\n",
    "\n",
    "# Display the movieId of the movie with the highest IMDb rating\n",
    "print(f\"The movieId of the movie with the highest IMDb rating is: {highest_rated_movie_id}\")\n"
   ]
  },
  {
   "cell_type": "code",
   "execution_count": 251,
   "id": "443318a6",
   "metadata": {},
   "outputs": [
    {
     "data": {
      "text/plain": [
       "movieId                                168248\n",
       "title           John Wick: Chapter Two (2017)\n",
       "genres                  Action|Crime|Thriller\n",
       "rating_count                               56\n",
       "rating_mean                          4.142857\n",
       "imdbId                                4425200\n",
       "tmdbId                               324552.0\n",
       "Name: 1539, dtype: object"
      ]
     },
     "execution_count": 251,
     "metadata": {},
     "output_type": "execute_result"
    }
   ],
   "source": [
    "highest_rated_movie"
   ]
  },
  {
   "cell_type": "code",
   "execution_count": 243,
   "id": "549ba7f3",
   "metadata": {},
   "outputs": [
    {
     "name": "stdout",
     "output_type": "stream",
     "text": [
      "The movieId of the highest-rated Sci-Fi movie is: 122912\n"
     ]
    },
    {
     "name": "stderr",
     "output_type": "stream",
     "text": [
      "C:\\Users\\PRANAY KUMAR\\AppData\\Local\\Temp\\ipykernel_23560\\2967976433.py:5: SettingWithCopyWarning: \n",
      "A value is trying to be set on a copy of a slice from a DataFrame.\n",
      "Try using .loc[row_indexer,col_indexer] = value instead\n",
      "\n",
      "See the caveats in the documentation: https://pandas.pydata.org/pandas-docs/stable/user_guide/indexing.html#returning-a-view-versus-a-copy\n",
      "  sci_fi_movies['imdbId'] = pd.to_numeric(sci_fi_movies['imdbId'], errors='coerce')\n"
     ]
    }
   ],
   "source": [
    "\n",
    "# Filter Sci-Fi movies\n",
    "sci_fi_movies = fil_movies[fil_movies['genres'].str.contains('Sci-Fi', case=False)]\n",
    "\n",
    "# Convert IMDb ratings to numeric values\n",
    "sci_fi_movies['imdbId'] = pd.to_numeric(sci_fi_movies['imdbId'], errors='coerce')\n",
    "\n",
    "# Find the row with the highest IMDb rating among Sci-Fi movies\n",
    "highest_rated_sci_fi_movie = sci_fi_movies.loc[sci_fi_movies['imdbId'].idxmax()]\n",
    "\n",
    "# Extract movieId of the highest-rated Sci-Fi movie\n",
    "highest_rated_sci_fi_movie_id = highest_rated_sci_fi_movie['movieId']\n",
    "\n",
    "# Display the movieId of the highest-rated Sci-Fi movie\n",
    "print(f\"The movieId of the highest-rated Sci-Fi movie is: {highest_rated_sci_fi_movie_id}\")\n"
   ]
  },
  {
   "cell_type": "code",
   "execution_count": 244,
   "id": "ee4471b5",
   "metadata": {},
   "outputs": [
    {
     "data": {
      "text/plain": [
       "122912"
      ]
     },
     "execution_count": 244,
     "metadata": {},
     "output_type": "execute_result"
    }
   ],
   "source": [
    "highest_rated_sci_fi_movie_id"
   ]
  },
  {
   "cell_type": "code",
   "execution_count": 247,
   "id": "c32d10b4",
   "metadata": {},
   "outputs": [],
   "source": [
    "specific_movie_id = 122912  # Replace with the movieId you want to check\n",
    "\n",
    "is_present = specific_movie_id in sci_fi_movies['movieId'].values\n"
   ]
  },
  {
   "cell_type": "code",
   "execution_count": 248,
   "id": "ece13aaf",
   "metadata": {},
   "outputs": [
    {
     "data": {
      "text/plain": [
       "True"
      ]
     },
     "execution_count": 248,
     "metadata": {},
     "output_type": "execute_result"
    }
   ],
   "source": [
    "is_present"
   ]
  },
  {
   "cell_type": "code",
   "execution_count": null,
   "id": "2794d238",
   "metadata": {},
   "outputs": [],
   "source": []
  }
 ],
 "metadata": {
  "kernelspec": {
   "display_name": "Python 3 (ipykernel)",
   "language": "python",
   "name": "python3"
  },
  "language_info": {
   "codemirror_mode": {
    "name": "ipython",
    "version": 3
   },
   "file_extension": ".py",
   "mimetype": "text/x-python",
   "name": "python",
   "nbconvert_exporter": "python",
   "pygments_lexer": "ipython3",
   "version": "3.10.9"
  }
 },
 "nbformat": 4,
 "nbformat_minor": 5
}
